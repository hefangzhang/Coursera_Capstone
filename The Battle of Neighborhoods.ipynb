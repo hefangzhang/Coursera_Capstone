{
    "cells": [
        {
            "cell_type": "markdown",
            "metadata": {
                "collapsed": true
            },
            "source": "# The Battle of Neighborhoods"
        },
        {
            "cell_type": "markdown",
            "metadata": {},
            "source": "_hefangzhang  \nApr 7,2020_"
        },
        {
            "cell_type": "markdown",
            "metadata": {},
            "source": "## 1 Introduction"
        },
        {
            "cell_type": "markdown",
            "metadata": {},
            "source": "### 1.1 Background"
        },
        {
            "cell_type": "markdown",
            "metadata": {},
            "source": "New York is America's business and cultural capitals. The city is attracting the best and the brightest from every corner of the country. The city's ethnic flavor has been nuanced by decades of immigrants. Toronto, as the capital of the province of Ontario in southeastern Canada, also have residents who have roots across the globe. Both cities are very diverse."
        },
        {
            "cell_type": "markdown",
            "metadata": {},
            "source": "### 1.2 The Problem"
        },
        {
            "cell_type": "markdown",
            "metadata": {},
            "source": "The interesting idea would be to compare the neighborhoods of the two cities and determine how similar or dissimilar they are. Is New York City more like Toronto? It may help the visitors to find the neighborhoods."
        },
        {
            "cell_type": "markdown",
            "metadata": {},
            "source": "## 2 Data"
        },
        {
            "cell_type": "markdown",
            "metadata": {},
            "source": "For this problem, we will leverage the Foursquare APIs to explore the data of these two cities. The data also have the information about the places around each neighborhood like restaurants, hotels, coffee shops, parks, theaters, art galleries, museums and many more. We selected one Borough from each city to analyze their neighborhoods. Manhattan from New York and Downtown Toronto from Toronto. We will segment and cluster the neighborhoods with similar objects on the basis of each neighborhood data. "
        },
        {
            "cell_type": "markdown",
            "metadata": {},
            "source": "## 3 Methodology"
        },
        {
            "cell_type": "markdown",
            "metadata": {},
            "source": "## 4 Results"
        },
        {
            "cell_type": "markdown",
            "metadata": {},
            "source": "## 5 Discussion"
        },
        {
            "cell_type": "markdown",
            "metadata": {},
            "source": "## 6 Conclusion"
        },
        {
            "cell_type": "code",
            "execution_count": null,
            "metadata": {},
            "outputs": [],
            "source": ""
        }
    ],
    "metadata": {
        "kernelspec": {
            "display_name": "Python 3.6",
            "language": "python",
            "name": "python3"
        },
        "language_info": {
            "codemirror_mode": {
                "name": "ipython",
                "version": 3
            },
            "file_extension": ".py",
            "mimetype": "text/x-python",
            "name": "python",
            "nbconvert_exporter": "python",
            "pygments_lexer": "ipython3",
            "version": "3.6.9"
        }
    },
    "nbformat": 4,
    "nbformat_minor": 1
}